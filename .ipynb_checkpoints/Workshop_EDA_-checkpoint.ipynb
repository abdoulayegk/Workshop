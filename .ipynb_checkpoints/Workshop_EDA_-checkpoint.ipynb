{
 "cells": [
  {
   "cell_type": "markdown",
   "metadata": {
    "colab_type": "text",
    "id": "PoA1m5uP-EZp"
   },
   "source": [
    "# Introduction to Data Analysis in Python\n",
    "\n",
    "## Part II - Data analysis using the `pandas` library\n",
    "\n",
    "### Instructor: Abdoulaye Balde"
   ]
  },
  {
   "cell_type": "markdown",
   "metadata": {
    "colab_type": "text",
    "id": "XogV5GDE-EZs"
   },
   "source": [
    "<hr style=\"height:2px; border:none; color:black; background-color:black;\">"
   ]
  },
  {
   "cell_type": "markdown",
   "metadata": {
    "colab_type": "text",
    "id": "Q0CXm8vL-EZx"
   },
   "source": [
    "### Pandas is a flexible and powerful Python library for data analysis (https://pandas.pydata.org/).\n",
    "\n",
    "To use pandas, we first need to import the `pandas` library."
   ]
  },
  {
   "cell_type": "code",
   "execution_count": 1,
   "metadata": {
    "colab": {},
    "colab_type": "code",
    "id": "bIJeRFtq-EZ0"
   },
   "outputs": [],
   "source": []
  },
  {
   "cell_type": "markdown",
   "metadata": {
    "colab_type": "text",
    "id": "YMhrk-lO-EaF"
   },
   "source": [
    "### Loading a data file\n",
    "\n",
    "#### Let's use a data set of police-reported road crashes that involves pedestrians in Wayne County, MI (2010-2018). \n",
    "\n",
    "Data source: \n",
    "https://www.michigantrafficcrashfacts.org/querytool/table/2#q1;2;2018;o82;0,37:1|2,3:1&p0,4:0,2:0,3:0,5:0,6:0,8:0,54:0,31:0,24:0,76:0,16:0,49:2,3:2,9:2,10||0|1000\n",
    "\n",
    "#### The data file is `ped_crashes.csv`\n",
    "\n",
    "First let's use the pandas `read_csv` function to read in the data set from the CSV (Comma-Separated Values) file.\n",
    "\n",
    "\n"
   ]
  },
  {
   "cell_type": "code",
   "execution_count": 1,
   "metadata": {
    "colab": {},
    "colab_type": "code",
    "id": "uT4av6UU-EaH"
   },
   "outputs": [],
   "source": []
  },
  {
   "cell_type": "markdown",
   "metadata": {
    "colab_type": "text",
    "id": "xX62I1gp-EaS"
   },
   "source": [
    "We can take a quick look at the loaded data (called a \"dataframe\") using pandas method `.head()` or `.tail()`. \n",
    "\n",
    "It checks the first or last few rows of the dataframe."
   ]
  },
  {
   "cell_type": "code",
   "execution_count": 1,
   "metadata": {
    "colab": {},
    "colab_type": "code",
    "id": "Yk3HhWDH-EaU"
   },
   "outputs": [],
   "source": []
  },
  {
   "cell_type": "code",
   "execution_count": 1,
   "metadata": {
    "colab": {},
    "colab_type": "code",
    "id": "q4CrNqAC-Eac"
   },
   "outputs": [],
   "source": []
  },
  {
   "cell_type": "code",
   "execution_count": 1,
   "metadata": {
    "colab": {},
    "colab_type": "code",
    "id": "wkfx3HnI-Eak"
   },
   "outputs": [],
   "source": []
  },
  {
   "cell_type": "markdown",
   "metadata": {
    "colab_type": "text",
    "id": "4Kv0np7a-Eau"
   },
   "source": [
    "Pandas `.shape` attribute returns the dataframe's dimensionality (numbers of rows and columns)."
   ]
  },
  {
   "cell_type": "code",
   "execution_count": 1,
   "metadata": {
    "colab": {},
    "colab_type": "code",
    "id": "pE7AOQjd-Eaw"
   },
   "outputs": [],
   "source": []
  },
  {
   "cell_type": "markdown",
   "metadata": {
    "colab_type": "text",
    "id": "QeoF60BJ-Ea2"
   },
   "source": [
    "### Checking data types\n",
    "\n",
    "The data set has texts and numbers. We need to check they are indeed what they should be in the dataframe.\n",
    "\n",
    "Pandas `.dtypes` attribute returns the data type of each column. "
   ]
  },
  {
   "cell_type": "code",
   "execution_count": 1,
   "metadata": {
    "colab": {},
    "colab_type": "code",
    "id": "LxkruCis-Ea2"
   },
   "outputs": [],
   "source": []
  },
  {
   "cell_type": "markdown",
   "metadata": {
    "colab_type": "text",
    "id": "bEgAgYQa-Ea9"
   },
   "source": [
    "Using **describe** method to see the statistical summary of all numeric data"
   ]
  },
  {
   "cell_type": "code",
   "execution_count": 1,
   "metadata": {
    "colab": {},
    "colab_type": "code",
    "id": "9O06Hjr3-Ea-"
   },
   "outputs": [],
   "source": []
  },
  {
   "cell_type": "markdown",
   "metadata": {
    "colab_type": "text",
    "id": "0Pi8BEnu-EbE"
   },
   "source": [
    "Pandas `.columns` attribute returns the column headers."
   ]
  },
  {
   "cell_type": "code",
   "execution_count": 1,
   "metadata": {
    "colab": {},
    "colab_type": "code",
    "id": "wfI7dTQm-EbG"
   },
   "outputs": [],
   "source": []
  },
  {
   "cell_type": "markdown",
   "metadata": {
    "colab_type": "text",
    "id": "5UgElPnv-EbM"
   },
   "source": [
    "the **info** method will return a pandas dataframe with all non null counted for each column with the datatype\n",
    "it will also tell us how much memory we used"
   ]
  },
  {
   "cell_type": "code",
   "execution_count": 1,
   "metadata": {
    "colab": {},
    "colab_type": "code",
    "id": "gSWwjTh8-EbO"
   },
   "outputs": [],
   "source": []
  },
  {
   "cell_type": "markdown",
   "metadata": {
    "colab_type": "text",
    "id": "ZLka_Ma0-EbV"
   },
   "source": [
    "### Renaming column names\n",
    "The original column names have spaces (and are long-ish), which may make the dataframe a little harder to work with. Let's rename them.\n",
    "\n",
    "To rename columns names, we can assign a list of new column names to the dataframe's `columns` attribute. \n",
    "\n",
    "If we want to rename only one or a few of the columns, it's handy to use the `.rename` method. "
   ]
  },
  {
   "cell_type": "code",
   "execution_count": 1,
   "metadata": {
    "colab": {},
    "colab_type": "code",
    "id": "FyySj459-EbW"
   },
   "outputs": [],
   "source": []
  },
  {
   "cell_type": "code",
   "execution_count": 1,
   "metadata": {
    "colab": {},
    "colab_type": "code",
    "id": "9sNhsPmc-Ebf"
   },
   "outputs": [],
   "source": []
  },
  {
   "cell_type": "code",
   "execution_count": 2,
   "metadata": {
    "colab": {},
    "colab_type": "code",
    "id": "tDHy76PB-Ebk"
   },
   "outputs": [],
   "source": [
    "# 'year', 'month', 'day', 'timeofday', 'dayofweek', 'city', 'intersection', 'hitandrun', \n",
    "#                  'lighting', 'weather', 'speedlimit', 'worstinjury', 'partytype', 'age', 'gender'\n"
   ]
  },
  {
   "cell_type": "code",
   "execution_count": 2,
   "metadata": {
    "colab": {},
    "colab_type": "code",
    "id": "zEtVquMs-Ebs"
   },
   "outputs": [],
   "source": []
  },
  {
   "cell_type": "code",
   "execution_count": 2,
   "metadata": {
    "colab": {},
    "colab_type": "code",
    "id": "DAUJuKR--Ebx"
   },
   "outputs": [],
   "source": []
  },
  {
   "cell_type": "markdown",
   "metadata": {
    "colab_type": "text",
    "id": "QMLvl40d-Eb2"
   },
   "source": [
    "### Replacing space by underoscore (_)"
   ]
  },
  {
   "cell_type": "code",
   "execution_count": 2,
   "metadata": {
    "colab": {},
    "colab_type": "code",
    "id": "EXmyNDO7-Eb4"
   },
   "outputs": [],
   "source": []
  },
  {
   "cell_type": "code",
   "execution_count": 2,
   "metadata": {
    "colab": {},
    "colab_type": "code",
    "id": "cDbhtC8K-Eb9"
   },
   "outputs": [],
   "source": []
  },
  {
   "cell_type": "markdown",
   "metadata": {
    "colab_type": "text",
    "id": "ZC_7Bi-G-EcC"
   },
   "source": [
    "### Checking missing values\n",
    "In many real-world datasets you'll find missing values. These can interfere with data analysis processes, so we check for these first."
   ]
  },
  {
   "cell_type": "code",
   "execution_count": 2,
   "metadata": {
    "colab": {},
    "colab_type": "code",
    "id": "HASXLEPp-EcD"
   },
   "outputs": [],
   "source": []
  },
  {
   "cell_type": "code",
   "execution_count": 2,
   "metadata": {
    "colab": {},
    "colab_type": "code",
    "id": "1VVbHwOi-EcK"
   },
   "outputs": [],
   "source": []
  },
  {
   "cell_type": "markdown",
   "metadata": {
    "colab_type": "text",
    "id": "_ehwah0c-EcP"
   },
   "source": [
    "### Subsetting columns\n",
    "To select a single column we can use something like either `crash.city` or `crash['city]`. \n",
    "\n",
    "To select multiple columns we can use something like `crash[['city', 'lighting', 'speedlimit']]`"
   ]
  },
  {
   "cell_type": "code",
   "execution_count": 2,
   "metadata": {
    "colab": {},
    "colab_type": "code",
    "id": "MQgnWEJ6-EcQ"
   },
   "outputs": [],
   "source": []
  },
  {
   "cell_type": "markdown",
   "metadata": {
    "colab_type": "text",
    "id": "p54Fep_m-EcU"
   },
   "source": [
    "### Value counts\n",
    "Pandas `value_counts()` method gives us the number of times each value shows up in the given column (often called a pandas Series)."
   ]
  },
  {
   "cell_type": "code",
   "execution_count": 2,
   "metadata": {
    "colab": {},
    "colab_type": "code",
    "id": "-VHjGUi--EcW"
   },
   "outputs": [],
   "source": []
  },
  {
   "cell_type": "markdown",
   "metadata": {
    "colab_type": "text",
    "id": "TEVDe3u8-Ecd"
   },
   "source": [
    "### Number of unique values\n",
    "Pandas `nunique()` method gives us the number of unique values in a column"
   ]
  },
  {
   "cell_type": "code",
   "execution_count": 2,
   "metadata": {
    "colab": {},
    "colab_type": "code",
    "id": "QM6gU61s-Ece"
   },
   "outputs": [],
   "source": []
  },
  {
   "cell_type": "markdown",
   "metadata": {
    "colab_type": "text",
    "id": "Y1OMlP_i-Ecj"
   },
   "source": [
    "### Filtering a dataframe"
   ]
  },
  {
   "cell_type": "code",
   "execution_count": 2,
   "metadata": {
    "colab": {},
    "colab_type": "code",
    "id": "ykk1014r-Ecj"
   },
   "outputs": [],
   "source": []
  },
  {
   "cell_type": "markdown",
   "metadata": {
    "colab_type": "text",
    "id": "1ir7le78-Ecq"
   },
   "source": [
    "### Creating a new column"
   ]
  },
  {
   "cell_type": "code",
   "execution_count": 2,
   "metadata": {
    "colab": {},
    "colab_type": "code",
    "id": "aGT8kXWQ-Ecq"
   },
   "outputs": [],
   "source": []
  },
  {
   "cell_type": "markdown",
   "metadata": {
    "colab_type": "text",
    "id": "2TQFf05i-Ecu"
   },
   "source": [
    "### Deleting a column\n",
    "Pandas `.drop` method allows us to delete a list of columns by name."
   ]
  },
  {
   "cell_type": "code",
   "execution_count": 2,
   "metadata": {
    "colab": {},
    "colab_type": "code",
    "id": "a53UWBLI-Ecv"
   },
   "outputs": [],
   "source": []
  },
  {
   "cell_type": "markdown",
   "metadata": {
    "colab_type": "text",
    "id": "kAwuYgWo-Ec0"
   },
   "source": [
    "### Accessing a row\n",
    "Pandas `.iloc` method allows us to access specified rows by position."
   ]
  },
  {
   "cell_type": "code",
   "execution_count": 2,
   "metadata": {
    "colab": {},
    "colab_type": "code",
    "id": "9eaMpfcl-Ec1"
   },
   "outputs": [],
   "source": []
  },
  {
   "cell_type": "markdown",
   "metadata": {
    "colab_type": "text",
    "id": "qncE-Kcv-EdC"
   },
   "source": [
    "## Exercises"
   ]
  },
  {
   "cell_type": "markdown",
   "metadata": {
    "colab_type": "text",
    "id": "P8MMrEoG-EdD"
   },
   "source": [
    "### 1. Rename some of the column names in the `credit` dataframe  (e.g., from \"speedlimit\" to \"Speed_Limit\").\n",
    "\n",
    "### Once done, check the dataframe to make sure they are indeed renamed."
   ]
  },
  {
   "cell_type": "code",
   "execution_count": 2,
   "metadata": {
    "colab": {},
    "colab_type": "code",
    "id": "X5QPRJah-EdE"
   },
   "outputs": [],
   "source": []
  },
  {
   "cell_type": "code",
   "execution_count": 2,
   "metadata": {
    "colab": {},
    "colab_type": "code",
    "id": "HKX7Ga0S-EdI"
   },
   "outputs": [],
   "source": []
  },
  {
   "cell_type": "markdown",
   "metadata": {
    "colab_type": "text",
    "id": "mC1xuCXC-EdL"
   },
   "source": [
    "### 3. What percentage of the crashes are fatal?"
   ]
  },
  {
   "cell_type": "code",
   "execution_count": 2,
   "metadata": {
    "colab": {},
    "colab_type": "code",
    "id": "6pQNXo90-EdN"
   },
   "outputs": [],
   "source": []
  },
  {
   "cell_type": "code",
   "execution_count": 2,
   "metadata": {
    "colab": {},
    "colab_type": "code",
    "id": "vLugrsIx-EdT"
   },
   "outputs": [],
   "source": []
  },
  {
   "cell_type": "markdown",
   "metadata": {
    "colab_type": "text",
    "id": "ATfV_nQ3-EdX"
   },
   "source": [
    "# Data visualization with matplotlib and seaborn\n",
    "\n",
    "### Matplotlib is a powerful Python library for data visualization (https://matplotlib.org/)\n",
    "### We will first need to import the matplotlib library.\n",
    "\n",
    "https://s3-api.us-geo.objectstorage.softlayer.net/cf-courses-data/CognitiveClass/DA0101EN/automobileEDA.csv'\n",
    "\n"
   ]
  },
  {
   "cell_type": "markdown",
   "metadata": {
    "colab_type": "text",
    "id": "Pc7a6DCA-mRb"
   },
   "source": [
    "#### Using pairplot function from seaborn to plot all the columns with each other "
   ]
  },
  {
   "cell_type": "code",
   "execution_count": 2,
   "metadata": {
    "colab": {},
    "colab_type": "code",
    "id": "dVTUCDtL-EdX"
   },
   "outputs": [],
   "source": []
  },
  {
   "cell_type": "code",
   "execution_count": 2,
   "metadata": {
    "colab": {},
    "colab_type": "code",
    "id": "GLRYK09W-Edb"
   },
   "outputs": [],
   "source": []
  },
  {
   "cell_type": "markdown",
   "metadata": {
    "colab_type": "text",
    "id": "s1urqQ7H--Qh"
   },
   "source": [
    "using boxplt to see some statistical meaning of certain columns"
   ]
  },
  {
   "cell_type": "code",
   "execution_count": 2,
   "metadata": {
    "colab": {},
    "colab_type": "code",
    "id": "JMOktm4w-Edf"
   },
   "outputs": [],
   "source": []
  },
  {
   "cell_type": "code",
   "execution_count": 2,
   "metadata": {
    "colab": {},
    "colab_type": "code",
    "id": "Wngrsud2-Edj"
   },
   "outputs": [],
   "source": []
  },
  {
   "cell_type": "markdown",
   "metadata": {
    "colab_type": "text",
    "id": "wZC10cBn_nqz"
   },
   "source": [
    "#Seaborn\n",
    "\n",
    "###Seaborn is a statistical data visualization library in Python. It is based on matplotlib.\n",
    "\n",
    "For examples of what seaborn can do, see https://seaborn.pydata.org/examples/index.html\n"
   ]
  },
  {
   "cell_type": "code",
   "execution_count": 2,
   "metadata": {
    "colab": {},
    "colab_type": "code",
    "id": "M7qcfDll-Edn"
   },
   "outputs": [],
   "source": []
  },
  {
   "cell_type": "code",
   "execution_count": 2,
   "metadata": {
    "colab": {},
    "colab_type": "code",
    "id": "kCDFPhhf-Edq"
   },
   "outputs": [],
   "source": []
  },
  {
   "cell_type": "code",
   "execution_count": 2,
   "metadata": {
    "colab": {},
    "colab_type": "code",
    "id": "We-_W64k-Edu"
   },
   "outputs": [],
   "source": []
  },
  {
   "cell_type": "code",
   "execution_count": 2,
   "metadata": {
    "colab": {},
    "colab_type": "code",
    "id": "SfFx9EGK-Edx"
   },
   "outputs": [],
   "source": []
  },
  {
   "cell_type": "code",
   "execution_count": 2,
   "metadata": {
    "colab": {},
    "colab_type": "code",
    "id": "Is2U69LX-Ed1"
   },
   "outputs": [],
   "source": []
  },
  {
   "cell_type": "markdown",
   "metadata": {
    "colab_type": "text",
    "id": "2Sa_8X63-Ed5"
   },
   "source": [
    "### Further resources on pandas\n",
    "\n",
    "\n",
    "* Data Wrangling with pandas Cheat Sheet: https://pandas.pydata.org/Pandas_Cheat_Sheet.pdf\n",
    "\n",
    "\n",
    "* Pandas official documentation: https://pandas.pydata.org/pandas-docs/stable/getting_started/overview.html\n",
    "\n",
    "\n"
   ]
  },
  {
   "cell_type": "markdown",
   "metadata": {
    "colab_type": "text",
    "id": "urx-2-yHApeq"
   },
   "source": [
    "\n",
    "###Further resources on matplotlib\n",
    "\n",
    "   ### Matplotlib official tutorials: https://matplotlib.org/tutorials/index.html\n",
    "\n",
    "Python Data Science Handbook, Chapter 4: https://jakevdp.github.io/PythonDataScienceHandbook/index.html#4.-Visualization-with-Matplotlib\n"
   ]
  },
  {
   "cell_type": "code",
   "execution_count": 2,
   "metadata": {
    "colab": {},
    "colab_type": "code",
    "id": "U_lQneWIAs6p"
   },
   "outputs": [],
   "source": []
  }
 ],
 "metadata": {
  "colab": {
   "name": "Workshop_EDA .ipynb",
   "provenance": []
  },
  "kernelspec": {
   "display_name": "Python 3",
   "language": "python",
   "name": "python3"
  },
  "language_info": {
   "codemirror_mode": {
    "name": "ipython",
    "version": 3
   },
   "file_extension": ".py",
   "mimetype": "text/x-python",
   "name": "python",
   "nbconvert_exporter": "python",
   "pygments_lexer": "ipython3",
   "version": "3.7.6"
  }
 },
 "nbformat": 4,
 "nbformat_minor": 1
}
